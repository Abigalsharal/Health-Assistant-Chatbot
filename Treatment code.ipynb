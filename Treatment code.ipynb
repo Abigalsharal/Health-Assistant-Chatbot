{
 "cells": [
  {
   "cell_type": "code",
   "execution_count": 1,
   "metadata": {},
   "outputs": [
    {
     "name": "stderr",
     "output_type": "stream",
     "text": [
      " * Running on http://localhost:9000/ (Press CTRL+C to quit)\n"
     ]
    }
   ],
   "source": [
    "from flask import Flask, request, jsonify\n",
    "import pandas as pd\n",
    "import numpy as np\n",
    "\n",
    "app = Flask(__name__)\n",
    "\n",
    "@app.route('/disease', methods=['POST']) \n",
    "def treatment():\n",
    "    req1 = request.get_json()\n",
    "    disease=\"No disease\"\n",
    "\n",
    "    import mysql.connector\n",
    "    mydb = mysql.connector.connect(host=\"remotemysql.com\",user=\"NVBXd4n6Q9\",password=\"cyJkBWARLr\",database=\"NVBXd4n6Q9\")\n",
    "    mycursor = mydb.cursor()\n",
    "    sql_query = \"DELETE FROM all_top_doctors WHERE Pid = '0'\"\n",
    "    mycursor.execute(sql_query)\n",
    "    mydb.commit()\n",
    "    \n",
    "    #Importing both the file using pandas\n",
    "    data = pd.read_csv(\"treatmenttest.csv\",index_col=\"Disease\",encoding='cp1252')\n",
    "#     print(data)\n",
    "    d=req1['disease']\n",
    "    df1=data.loc[d]\n",
    "\n",
    "    df1=df1.to_string(header=False)\n",
    "    \n",
    "    pd.set_option('display.max_rows', None)\n",
    "    pd.set_option('display.max_columns', None)\n",
    "    pd.set_option('display.width', None)\n",
    "    pd.set_option('display.max_colwidth',1)\n",
    "\n",
    "    return jsonify({\"remedy\":df1})\n",
    "\n",
    "\n",
    "if __name__ == '__main__':\n",
    "    from werkzeug.serving import run_simple\n",
    "    run_simple('localhost', 9000, app)"
   ]
  },
  {
   "cell_type": "code",
   "execution_count": null,
   "metadata": {},
   "outputs": [],
   "source": []
  }
 ],
 "metadata": {
  "kernelspec": {
   "display_name": "Python 3",
   "language": "python",
   "name": "python3"
  },
  "language_info": {
   "codemirror_mode": {
    "name": "ipython",
    "version": 3
   },
   "file_extension": ".py",
   "mimetype": "text/x-python",
   "name": "python",
   "nbconvert_exporter": "python",
   "pygments_lexer": "ipython3",
   "version": "3.7.3"
  }
 },
 "nbformat": 4,
 "nbformat_minor": 2
}
