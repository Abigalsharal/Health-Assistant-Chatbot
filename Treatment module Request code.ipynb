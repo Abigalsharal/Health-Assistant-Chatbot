{
 "cells": [
  {
   "cell_type": "code",
   "execution_count": 4,
   "metadata": {},
   "outputs": [
    {
     "name": "stdout",
     "output_type": "stream",
     "text": [
      "Enter diseaseFungal Infection\n",
      "Avoid STEROID-containing creams                                                                                                                                                                                                                                                                                 Complete the treatment given by dermatologists                                                                                                                                                                                                                                                         Apply the cream on 2-3 cms of normal skin in addition to the rash.                                                                                                                                                                                                                        Take daily baths with antifungal soaps.                                                                                                                                                                                                                                                                               Daily wash and iron your clothes and undergarments.\n"
     ]
    }
   ],
   "source": [
    "from urllib import request\n",
    "import json\n",
    "\n",
    "disease = input(\"Enter disease\")\n",
    "\n",
    "req = request.Request('http://localhost:9000/disease', method=\"POST\")\n",
    "# print(req)\n",
    "req.add_header('Content-Type', 'application/json')\n",
    "data = {\n",
    "    \"disease\": disease\n",
    "}\n",
    "data = json.dumps(data)\n",
    "data = data.encode()\n",
    "r = request.urlopen(req, data=data)\n",
    "content = r.read().decode('utf-8')\n",
    "\n",
    "a=content[16:-3]\n",
    "print(a)\n"
   ]
  },
  {
   "cell_type": "code",
   "execution_count": null,
   "metadata": {},
   "outputs": [],
   "source": []
  },
  {
   "cell_type": "code",
   "execution_count": null,
   "metadata": {},
   "outputs": [],
   "source": []
  }
 ],
 "metadata": {
  "kernelspec": {
   "display_name": "Python 3",
   "language": "python",
   "name": "python3"
  },
  "language_info": {
   "codemirror_mode": {
    "name": "ipython",
    "version": 3
   },
   "file_extension": ".py",
   "mimetype": "text/x-python",
   "name": "python",
   "nbconvert_exporter": "python",
   "pygments_lexer": "ipython3",
   "version": "3.7.3"
  }
 },
 "nbformat": 4,
 "nbformat_minor": 2
}
