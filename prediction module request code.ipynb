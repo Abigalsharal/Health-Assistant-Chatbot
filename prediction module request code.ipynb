{
 "cells": [
  {
   "cell_type": "code",
   "execution_count": null,
   "metadata": {},
   "outputs": [],
   "source": [
    "from urllib import request\n",
    "import json\n",
    "\n",
    "symptoms = input(\"Enter atleast 3 Symptoms\")\n",
    "\n",
    "req = request.Request('http://localhost:9000/symptoms', method=\"POST\")\n",
    "req.add_header('Content-Type', 'application/json')\n",
    "data = {\n",
    "    \"symptoms\": symptoms\n",
    "}\n",
    "data = json.dumps(data)\n",
    "data = data.encode()\n",
    "r = request.urlopen(req, data=data)\n",
    "content = r.read().decode('utf-8')\n",
    "print(content[12:-3])"
   ]
  },
  {
   "cell_type": "code",
   "execution_count": null,
   "metadata": {},
   "outputs": [],
   "source": []
  }
 ],
 "metadata": {
  "kernelspec": {
   "display_name": "Python 3",
   "language": "python",
   "name": "python3"
  },
  "language_info": {
   "codemirror_mode": {
    "name": "ipython",
    "version": 3
   },
   "file_extension": ".py",
   "mimetype": "text/x-python",
   "name": "python",
   "nbconvert_exporter": "python",
   "pygments_lexer": "ipython3",
   "version": "3.7.3"
  }
 },
 "nbformat": 4,
 "nbformat_minor": 2
}
