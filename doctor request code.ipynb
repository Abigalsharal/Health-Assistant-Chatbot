{
 "cells": [
  {
   "cell_type": "code",
   "execution_count": 16,
   "metadata": {},
   "outputs": [
    {
     "name": "stdout",
     "output_type": "stream",
     "text": [
      "Enter Specialization and locationAYUSH Doctor,Mangalore\n",
      "b'{\"specialization\": \"AYUSH Doctor\", \"location\": \"Mangalore\"}'\n",
      "{\"Doctors\":[\"Dr. Mala Harathi\",\"Dr. Prasad\",\"Dr. Sakharakr Nasreen\",\"Dr. Ansia A. M.\"]}\n",
      "\n"
     ]
    }
   ],
   "source": [
    "from urllib import request\n",
    "import json\n",
    "\n",
    "specialization,location = input(\"Enter Specialization and location\").split(',')\n",
    "req = request.Request('http://localhost:9000/doctors', method=\"POST\")\n",
    "req.add_header('Content-Type', 'application/json')\n",
    "data = {\n",
    "   \"specialization\":specialization,\n",
    "    \"location\":location \n",
    "}\n",
    "data = json.dumps(data)\n",
    "data = data.encode()\n",
    "print(data)\n",
    "r = request.urlopen(req, data=data)\n",
    "content = r.read().decode('utf-8')\n",
    "print(content)"
   ]
  },
  {
   "cell_type": "code",
   "execution_count": null,
   "metadata": {},
   "outputs": [],
   "source": []
  }
 ],
 "metadata": {
  "kernelspec": {
   "display_name": "Python 3",
   "language": "python",
   "name": "python3"
  },
  "language_info": {
   "codemirror_mode": {
    "name": "ipython",
    "version": 3
   },
   "file_extension": ".py",
   "mimetype": "text/x-python",
   "name": "python",
   "nbconvert_exporter": "python",
   "pygments_lexer": "ipython3",
   "version": "3.7.3"
  }
 },
 "nbformat": 4,
 "nbformat_minor": 2
}
